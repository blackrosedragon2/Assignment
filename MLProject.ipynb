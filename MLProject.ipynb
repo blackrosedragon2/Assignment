{
  "nbformat": 4,
  "nbformat_minor": 0,
  "metadata": {
    "kernelspec": {
      "display_name": "Python 3",
      "language": "python",
      "name": "python3"
    },
    "language_info": {
      "codemirror_mode": {
        "name": "ipython",
        "version": 3
      },
      "file_extension": ".py",
      "mimetype": "text/x-python",
      "name": "python",
      "nbconvert_exporter": "python",
      "pygments_lexer": "ipython3",
      "version": "3.6.5"
    },
    "colab": {
      "name": "MLProject.ipynb",
      "provenance": [],
      "collapsed_sections": []
    }
  },
  "cells": [
    {
      "cell_type": "code",
      "metadata": {
        "id": "43vlbOhnLyJm",
        "colab": {
          "base_uri": "https://localhost:8080/",
          "height": 669
        },
        "outputId": "d4e5251e-e358-4c4d-e6ef-f0f5eaa83fa9"
      },
      "source": [
        "#Phase 1 : Analysis of data\n",
        "\n",
        "import pandas as pd\n",
        "import numpy as np\n",
        "import matplotlib.pyplot as plot\n",
        "data=pd.read_csv(\"Train.csv\")\n",
        "data.head(20)\n",
        "\n",
        "#m=data.describe() #- This tells us exactly how many NANS we have in our dataset for each column\n",
        "#m[:1][\"Credit_History\"] \n",
        "\n",
        "#data['Property_Area'].value_counts() - Counts variables by group\n",
        "#data['ApplicantIncome'].hist(bins=50) - We can infer the range of incomes and also see outliers, these outliers may be due to..\n",
        "#plot.show()\n",
        "\n",
        "#data.boxplot(column='ApplicantIncome', by = 'Education') - ... educational diffrences which we compare here \n",
        "#Inference: There are higher no. of graduates with very high incomes and not too many high incomes from non-graduates\n",
        "#plot.show()\n"
      ],
      "execution_count": 1,
      "outputs": [
        {
          "output_type": "execute_result",
          "data": {
            "text/html": [
              "<div>\n",
              "<style scoped>\n",
              "    .dataframe tbody tr th:only-of-type {\n",
              "        vertical-align: middle;\n",
              "    }\n",
              "\n",
              "    .dataframe tbody tr th {\n",
              "        vertical-align: top;\n",
              "    }\n",
              "\n",
              "    .dataframe thead th {\n",
              "        text-align: right;\n",
              "    }\n",
              "</style>\n",
              "<table border=\"1\" class=\"dataframe\">\n",
              "  <thead>\n",
              "    <tr style=\"text-align: right;\">\n",
              "      <th></th>\n",
              "      <th>Loan_ID</th>\n",
              "      <th>Gender</th>\n",
              "      <th>Married</th>\n",
              "      <th>Dependents</th>\n",
              "      <th>Education</th>\n",
              "      <th>Self_Employed</th>\n",
              "      <th>ApplicantIncome</th>\n",
              "      <th>CoapplicantIncome</th>\n",
              "      <th>LoanAmount</th>\n",
              "      <th>Loan_Amount_Term</th>\n",
              "      <th>Credit_History</th>\n",
              "      <th>Property_Area</th>\n",
              "      <th>Loan_Status</th>\n",
              "    </tr>\n",
              "  </thead>\n",
              "  <tbody>\n",
              "    <tr>\n",
              "      <th>0</th>\n",
              "      <td>LP001002</td>\n",
              "      <td>Male</td>\n",
              "      <td>No</td>\n",
              "      <td>0</td>\n",
              "      <td>Graduate</td>\n",
              "      <td>No</td>\n",
              "      <td>5849</td>\n",
              "      <td>0.0</td>\n",
              "      <td>NaN</td>\n",
              "      <td>360.0</td>\n",
              "      <td>1.0</td>\n",
              "      <td>Urban</td>\n",
              "      <td>Y</td>\n",
              "    </tr>\n",
              "    <tr>\n",
              "      <th>1</th>\n",
              "      <td>LP001003</td>\n",
              "      <td>Male</td>\n",
              "      <td>Yes</td>\n",
              "      <td>1</td>\n",
              "      <td>Graduate</td>\n",
              "      <td>No</td>\n",
              "      <td>4583</td>\n",
              "      <td>1508.0</td>\n",
              "      <td>128.0</td>\n",
              "      <td>360.0</td>\n",
              "      <td>1.0</td>\n",
              "      <td>Rural</td>\n",
              "      <td>N</td>\n",
              "    </tr>\n",
              "    <tr>\n",
              "      <th>2</th>\n",
              "      <td>LP001005</td>\n",
              "      <td>Male</td>\n",
              "      <td>Yes</td>\n",
              "      <td>0</td>\n",
              "      <td>Graduate</td>\n",
              "      <td>Yes</td>\n",
              "      <td>3000</td>\n",
              "      <td>0.0</td>\n",
              "      <td>66.0</td>\n",
              "      <td>360.0</td>\n",
              "      <td>1.0</td>\n",
              "      <td>Urban</td>\n",
              "      <td>Y</td>\n",
              "    </tr>\n",
              "    <tr>\n",
              "      <th>3</th>\n",
              "      <td>LP001006</td>\n",
              "      <td>Male</td>\n",
              "      <td>Yes</td>\n",
              "      <td>0</td>\n",
              "      <td>Not Graduate</td>\n",
              "      <td>No</td>\n",
              "      <td>2583</td>\n",
              "      <td>2358.0</td>\n",
              "      <td>120.0</td>\n",
              "      <td>360.0</td>\n",
              "      <td>1.0</td>\n",
              "      <td>Urban</td>\n",
              "      <td>Y</td>\n",
              "    </tr>\n",
              "    <tr>\n",
              "      <th>4</th>\n",
              "      <td>LP001008</td>\n",
              "      <td>Male</td>\n",
              "      <td>No</td>\n",
              "      <td>0</td>\n",
              "      <td>Graduate</td>\n",
              "      <td>No</td>\n",
              "      <td>6000</td>\n",
              "      <td>0.0</td>\n",
              "      <td>141.0</td>\n",
              "      <td>360.0</td>\n",
              "      <td>1.0</td>\n",
              "      <td>Urban</td>\n",
              "      <td>Y</td>\n",
              "    </tr>\n",
              "    <tr>\n",
              "      <th>5</th>\n",
              "      <td>LP001011</td>\n",
              "      <td>Male</td>\n",
              "      <td>Yes</td>\n",
              "      <td>2</td>\n",
              "      <td>Graduate</td>\n",
              "      <td>Yes</td>\n",
              "      <td>5417</td>\n",
              "      <td>4196.0</td>\n",
              "      <td>267.0</td>\n",
              "      <td>360.0</td>\n",
              "      <td>1.0</td>\n",
              "      <td>Urban</td>\n",
              "      <td>Y</td>\n",
              "    </tr>\n",
              "    <tr>\n",
              "      <th>6</th>\n",
              "      <td>LP001013</td>\n",
              "      <td>Male</td>\n",
              "      <td>Yes</td>\n",
              "      <td>0</td>\n",
              "      <td>Not Graduate</td>\n",
              "      <td>No</td>\n",
              "      <td>2333</td>\n",
              "      <td>1516.0</td>\n",
              "      <td>95.0</td>\n",
              "      <td>360.0</td>\n",
              "      <td>1.0</td>\n",
              "      <td>Urban</td>\n",
              "      <td>Y</td>\n",
              "    </tr>\n",
              "    <tr>\n",
              "      <th>7</th>\n",
              "      <td>LP001014</td>\n",
              "      <td>Male</td>\n",
              "      <td>Yes</td>\n",
              "      <td>3+</td>\n",
              "      <td>Graduate</td>\n",
              "      <td>No</td>\n",
              "      <td>3036</td>\n",
              "      <td>2504.0</td>\n",
              "      <td>158.0</td>\n",
              "      <td>360.0</td>\n",
              "      <td>0.0</td>\n",
              "      <td>Semiurban</td>\n",
              "      <td>N</td>\n",
              "    </tr>\n",
              "    <tr>\n",
              "      <th>8</th>\n",
              "      <td>LP001018</td>\n",
              "      <td>Male</td>\n",
              "      <td>Yes</td>\n",
              "      <td>2</td>\n",
              "      <td>Graduate</td>\n",
              "      <td>No</td>\n",
              "      <td>4006</td>\n",
              "      <td>1526.0</td>\n",
              "      <td>168.0</td>\n",
              "      <td>360.0</td>\n",
              "      <td>1.0</td>\n",
              "      <td>Urban</td>\n",
              "      <td>Y</td>\n",
              "    </tr>\n",
              "    <tr>\n",
              "      <th>9</th>\n",
              "      <td>LP001020</td>\n",
              "      <td>Male</td>\n",
              "      <td>Yes</td>\n",
              "      <td>1</td>\n",
              "      <td>Graduate</td>\n",
              "      <td>No</td>\n",
              "      <td>12841</td>\n",
              "      <td>10968.0</td>\n",
              "      <td>349.0</td>\n",
              "      <td>360.0</td>\n",
              "      <td>1.0</td>\n",
              "      <td>Semiurban</td>\n",
              "      <td>N</td>\n",
              "    </tr>\n",
              "    <tr>\n",
              "      <th>10</th>\n",
              "      <td>LP001024</td>\n",
              "      <td>Male</td>\n",
              "      <td>Yes</td>\n",
              "      <td>2</td>\n",
              "      <td>Graduate</td>\n",
              "      <td>No</td>\n",
              "      <td>3200</td>\n",
              "      <td>700.0</td>\n",
              "      <td>70.0</td>\n",
              "      <td>360.0</td>\n",
              "      <td>1.0</td>\n",
              "      <td>Urban</td>\n",
              "      <td>Y</td>\n",
              "    </tr>\n",
              "    <tr>\n",
              "      <th>11</th>\n",
              "      <td>LP001027</td>\n",
              "      <td>Male</td>\n",
              "      <td>Yes</td>\n",
              "      <td>2</td>\n",
              "      <td>Graduate</td>\n",
              "      <td>NaN</td>\n",
              "      <td>2500</td>\n",
              "      <td>1840.0</td>\n",
              "      <td>109.0</td>\n",
              "      <td>360.0</td>\n",
              "      <td>1.0</td>\n",
              "      <td>Urban</td>\n",
              "      <td>Y</td>\n",
              "    </tr>\n",
              "    <tr>\n",
              "      <th>12</th>\n",
              "      <td>LP001028</td>\n",
              "      <td>Male</td>\n",
              "      <td>Yes</td>\n",
              "      <td>2</td>\n",
              "      <td>Graduate</td>\n",
              "      <td>No</td>\n",
              "      <td>3073</td>\n",
              "      <td>8106.0</td>\n",
              "      <td>200.0</td>\n",
              "      <td>360.0</td>\n",
              "      <td>1.0</td>\n",
              "      <td>Urban</td>\n",
              "      <td>Y</td>\n",
              "    </tr>\n",
              "    <tr>\n",
              "      <th>13</th>\n",
              "      <td>LP001029</td>\n",
              "      <td>Male</td>\n",
              "      <td>No</td>\n",
              "      <td>0</td>\n",
              "      <td>Graduate</td>\n",
              "      <td>No</td>\n",
              "      <td>1853</td>\n",
              "      <td>2840.0</td>\n",
              "      <td>114.0</td>\n",
              "      <td>360.0</td>\n",
              "      <td>1.0</td>\n",
              "      <td>Rural</td>\n",
              "      <td>N</td>\n",
              "    </tr>\n",
              "    <tr>\n",
              "      <th>14</th>\n",
              "      <td>LP001030</td>\n",
              "      <td>Male</td>\n",
              "      <td>Yes</td>\n",
              "      <td>2</td>\n",
              "      <td>Graduate</td>\n",
              "      <td>No</td>\n",
              "      <td>1299</td>\n",
              "      <td>1086.0</td>\n",
              "      <td>17.0</td>\n",
              "      <td>120.0</td>\n",
              "      <td>1.0</td>\n",
              "      <td>Urban</td>\n",
              "      <td>Y</td>\n",
              "    </tr>\n",
              "    <tr>\n",
              "      <th>15</th>\n",
              "      <td>LP001032</td>\n",
              "      <td>Male</td>\n",
              "      <td>No</td>\n",
              "      <td>0</td>\n",
              "      <td>Graduate</td>\n",
              "      <td>No</td>\n",
              "      <td>4950</td>\n",
              "      <td>0.0</td>\n",
              "      <td>125.0</td>\n",
              "      <td>360.0</td>\n",
              "      <td>1.0</td>\n",
              "      <td>Urban</td>\n",
              "      <td>Y</td>\n",
              "    </tr>\n",
              "    <tr>\n",
              "      <th>16</th>\n",
              "      <td>LP001034</td>\n",
              "      <td>Male</td>\n",
              "      <td>No</td>\n",
              "      <td>1</td>\n",
              "      <td>Not Graduate</td>\n",
              "      <td>No</td>\n",
              "      <td>3596</td>\n",
              "      <td>0.0</td>\n",
              "      <td>100.0</td>\n",
              "      <td>240.0</td>\n",
              "      <td>NaN</td>\n",
              "      <td>Urban</td>\n",
              "      <td>Y</td>\n",
              "    </tr>\n",
              "    <tr>\n",
              "      <th>17</th>\n",
              "      <td>LP001036</td>\n",
              "      <td>Female</td>\n",
              "      <td>No</td>\n",
              "      <td>0</td>\n",
              "      <td>Graduate</td>\n",
              "      <td>No</td>\n",
              "      <td>3510</td>\n",
              "      <td>0.0</td>\n",
              "      <td>76.0</td>\n",
              "      <td>360.0</td>\n",
              "      <td>0.0</td>\n",
              "      <td>Urban</td>\n",
              "      <td>N</td>\n",
              "    </tr>\n",
              "    <tr>\n",
              "      <th>18</th>\n",
              "      <td>LP001038</td>\n",
              "      <td>Male</td>\n",
              "      <td>Yes</td>\n",
              "      <td>0</td>\n",
              "      <td>Not Graduate</td>\n",
              "      <td>No</td>\n",
              "      <td>4887</td>\n",
              "      <td>0.0</td>\n",
              "      <td>133.0</td>\n",
              "      <td>360.0</td>\n",
              "      <td>1.0</td>\n",
              "      <td>Rural</td>\n",
              "      <td>N</td>\n",
              "    </tr>\n",
              "    <tr>\n",
              "      <th>19</th>\n",
              "      <td>LP001041</td>\n",
              "      <td>Male</td>\n",
              "      <td>Yes</td>\n",
              "      <td>0</td>\n",
              "      <td>Graduate</td>\n",
              "      <td>NaN</td>\n",
              "      <td>2600</td>\n",
              "      <td>3500.0</td>\n",
              "      <td>115.0</td>\n",
              "      <td>NaN</td>\n",
              "      <td>1.0</td>\n",
              "      <td>Urban</td>\n",
              "      <td>Y</td>\n",
              "    </tr>\n",
              "  </tbody>\n",
              "</table>\n",
              "</div>"
            ],
            "text/plain": [
              "     Loan_ID  Gender Married  ... Credit_History Property_Area Loan_Status\n",
              "0   LP001002    Male      No  ...            1.0         Urban           Y\n",
              "1   LP001003    Male     Yes  ...            1.0         Rural           N\n",
              "2   LP001005    Male     Yes  ...            1.0         Urban           Y\n",
              "3   LP001006    Male     Yes  ...            1.0         Urban           Y\n",
              "4   LP001008    Male      No  ...            1.0         Urban           Y\n",
              "5   LP001011    Male     Yes  ...            1.0         Urban           Y\n",
              "6   LP001013    Male     Yes  ...            1.0         Urban           Y\n",
              "7   LP001014    Male     Yes  ...            0.0     Semiurban           N\n",
              "8   LP001018    Male     Yes  ...            1.0         Urban           Y\n",
              "9   LP001020    Male     Yes  ...            1.0     Semiurban           N\n",
              "10  LP001024    Male     Yes  ...            1.0         Urban           Y\n",
              "11  LP001027    Male     Yes  ...            1.0         Urban           Y\n",
              "12  LP001028    Male     Yes  ...            1.0         Urban           Y\n",
              "13  LP001029    Male      No  ...            1.0         Rural           N\n",
              "14  LP001030    Male     Yes  ...            1.0         Urban           Y\n",
              "15  LP001032    Male      No  ...            1.0         Urban           Y\n",
              "16  LP001034    Male      No  ...            NaN         Urban           Y\n",
              "17  LP001036  Female      No  ...            0.0         Urban           N\n",
              "18  LP001038    Male     Yes  ...            1.0         Rural           N\n",
              "19  LP001041    Male     Yes  ...            1.0         Urban           Y\n",
              "\n",
              "[20 rows x 13 columns]"
            ]
          },
          "metadata": {
            "tags": []
          },
          "execution_count": 1
        }
      ]
    },
    {
      "cell_type": "code",
      "metadata": {
        "id": "D9uAm9G-LyJz",
        "colab": {
          "base_uri": "https://localhost:8080/",
          "height": 835
        },
        "outputId": "9c77ba64-042d-4cf9-82d7-812de9f4bb00"
      },
      "source": [
        "#Phase 2 :Categorical Variable Analysis\n",
        "\n",
        "#temp2 stores rows of data who's credit scores =1 \n",
        "temp2=data[data[\"Credit_History\"]==1 ]\n",
        "#(the final) temp2 stores columns credit history and loan status of data whos credit scores are one\n",
        "temp2=temp2[[\"Credit_History\",\"Loan_Status\"]]\n",
        "#temp1 stores columns credit history and loan status of data whos credit scores are one and loan status is \"Y\"\n",
        "temp1=temp2[temp2[\"Loan_Status\"]==\"Y\"]\n",
        "print(\"The probability that if your credit score is 1 your loan status becomes Y : \")\n",
        "probcredscore1=(len(temp1)/len(temp2))*100\n",
        "print(probcredscore1)\n",
        "\n",
        "#Similarly we analise for credit score 0\n",
        "temp3=data[data[\"Credit_History\"]==0]\n",
        "temp3=temp3[[\"Credit_History\",\"Loan_Status\"]]\n",
        "temp4=temp3[temp3[\"Loan_Status\"]==\"Y\"]\n",
        "print(\"The probability that if your credit score is 0 your loan status becomes Y : \")\n",
        "probcredscore2=(len(temp4)/len(temp3))*100\n",
        "print(probcredscore2)\n",
        "\n",
        "#Visual Graphs\n",
        "import matplotlib.patches as mpatches\n",
        "fig = plot.figure(figsize=(16,8))\n",
        "ax1 = fig.add_subplot(121)\n",
        "ax1.set_xlabel('Credit_History')\n",
        "ax1.set_ylabel('Count of Applicants')\n",
        "temp2[\"Credit_History\"].hist(bins=2)\n",
        "temp3[\"Credit_History\"].hist(bins=1)\n",
        "plot.show()\n",
        "#combined Visual Graph\n",
        "temp5 = pd.crosstab(data['Credit_History'],data['Loan_Status'])\n",
        "temp5.plot(kind='bar', stacked=True, color=['red','blue'], grid=False)\n",
        "plot.show()\n",
        "\n"
      ],
      "execution_count": 2,
      "outputs": [
        {
          "output_type": "stream",
          "text": [
            "The probability that if your credit score is 1 your loan status becomes Y : \n",
            "79.57894736842105\n",
            "The probability that if your credit score is 0 your loan status becomes Y : \n",
            "7.865168539325842\n"
          ],
          "name": "stdout"
        },
        {
          "output_type": "display_data",
          "data": {
            "image/png": "[encoded data removed]",
            "text/plain": [
              "<Figure size 1152x576 with 1 Axes>"
            ]
          },
          "metadata": {
            "tags": [],
            "needs_background": "light"
          }
        },
        {
          "output_type": "display_data",
          "data": {
            "image/png": "[encoded data removed]",
            "text/plain": [
              "<Figure size 432x288 with 1 Axes>"
            ]
          },
          "metadata": {
            "tags": [],
            "needs_background": "light"
          }
        }
      ]
    },
    {
      "cell_type": "code",
      "metadata": {
        "id": "8wcSO8rcLyJ6",
        "colab": {
          "base_uri": "https://localhost:8080/"
        },
        "outputId": "ce0738c0-f49a-4cff-a9b9-4daa3cf12a48"
      },
      "source": [
        "#Phase 3 : Clean Up data\n",
        "def clean_data(data): # - We need to do this entire method for test data as well so this function can be pretty usefull \n",
        "    #data.apply(lambda x: sum(x.isnull()))#-checks missing / NAN values\n",
        "    data[\"LoanAmount\"].fillna(data[\"LoanAmount\"].mean(),inplace=True)\n",
        "    #data.apply(lambda x: sum(x.isnull()))\n",
        "\n",
        "    #data.boxplot(column='LoanAmount', by = ['Education','Self_Employed'] )\n",
        "    #plot.show()\n",
        "    data['Self_Employed'].value_counts()#-Most values are \"no\" so we replace all the NA/Missing values with \"no\"\n",
        "    data['Self_Employed'].fillna(\"no\",inplace=True)\n",
        "    #data.apply(lambda x: sum(x.isnull()))\n",
        "\n",
        " \n",
        "    data[\"CoapplicantIncome\"]=data[\"CoapplicantIncome\"].astype(float)\n",
        "    data['Total_Income']=data['ApplicantIncome']+data['CoapplicantIncome']#-combining 2 features into 1 feature\n",
        "    data[\"Total_Income\"]=data[\"Total_Income\"].astype(float)\n",
        "    #np.log(data['Total_Income']).hist(bins=20)\n",
        "    #data.apply(lambda x: sum(x.isnull()))\n",
        "\n",
        "    malecount=data[data[\"Gender\"]==\"Male\"][\"Gender\"].count()\n",
        "    femalecount=data[data[\"Gender\"]==\"Female\"][\"Gender\"].count()\n",
        "    totalcount=data[\"Gender\"].count()\n",
        "    male_ratio=malecount/totalcount\n",
        "    female_ratio=femalecount/totalcount\n",
        "    #print(\"Male %\",male_ratio*100)\n",
        "    #print(\"Female %\", female_ratio*100) 100 7 , 100 : 7 \n",
        "    #gendernan=13 male_ratio*gendernan = no. of people who's data will be entered as male vice versa for females\n",
        "    #print(\"Male nans:\",13*male_ratio) -there are about 10 male and 3 female nans\n",
        "    data[\"Gender\"].fillna(\"Male\",limit=10,inplace=True)\n",
        "    data[\"Gender\"].fillna(\"Female\",limit=3,inplace=True)\n",
        "    #data.apply(lambda x: sum(x.isnull()))\n",
        "\n",
        "    marriednanset=data[data[\"Married\"].isnull()]  #-All of the people who did not fill out wether they are married or not\n",
        "    datafix=np.array(marriednanset[\"CoapplicantIncome\"])  \n",
        "    for i in range(len(datafix)):\n",
        "        if datafix[i]!=0: #- If coapplicant income is not 0 it means that they are most likely married \n",
        "            marriednanset.fillna(\"Yes\",limit=1,inplace=True)\n",
        "        else:\n",
        "            marriednanset.fillna(\"No\",limit=1,inplace=True)\n",
        "    data[data[\"Married\"].isnull()]=marriednanset #- copying the changed values back into the original data\n",
        "    #data.apply(lambda x: sum(x.isnull()))\n",
        "\n",
        "    data['Loan_Amount_Term'].fillna(data['Loan_Amount_Term'].mean(),inplace=True) #-It's unpredictable of how long a person will take a loan and hence \n",
        "    #data.apply(lambda x:sum(x.isnull())) #                                                                                      we fill na with mean\n",
        "\n",
        "    data[\"Dependents\"].fillna(0,inplace=True)#-Unpredictable , so by default we set dependencies to a person as 0\n",
        "    #data.apply(lambda x:sum(x.isnull()))\n",
        "\n",
        "    data[\"Credit_History\"].fillna(1,inplace=True) #-By default we assume everyone has a credit history document\n",
        "    data.apply(lambda x:sum(x.isnull()))\n",
        "    \n",
        "    return data\n",
        "data=clean_data(data)\n",
        "data.apply(lambda x:sum(x.isnull()))"
      ],
      "execution_count": 3,
      "outputs": [
        {
          "output_type": "stream",
          "text": [
            "/usr/local/lib/python3.6/dist-packages/pandas/core/frame.py:4327: SettingWithCopyWarning: \n",
            "A value is trying to be set on a copy of a slice from a DataFrame\n",
            "\n",
            "See the caveats in the documentation: https://pandas.pydata.org/pandas-docs/stable/user_guide/indexing.html#returning-a-view-versus-a-copy\n",
            "  downcast=downcast,\n"
          ],
          "name": "stderr"
        },
        {
          "output_type": "execute_result",
          "data": {
            "text/plain": [
              "Loan_ID              0\n",
              "Gender               0\n",
              "Married              0\n",
              "Dependents           0\n",
              "Education            0\n",
              "Self_Employed        0\n",
              "ApplicantIncome      0\n",
              "CoapplicantIncome    0\n",
              "LoanAmount           0\n",
              "Loan_Amount_Term     0\n",
              "Credit_History       0\n",
              "Property_Area        0\n",
              "Loan_Status          0\n",
              "Total_Income         0\n",
              "dtype: int64"
            ]
          },
          "metadata": {
            "tags": []
          },
          "execution_count": 3
        }
      ]
    },
    {
      "cell_type": "code",
      "metadata": {
        "id": "nqShi5LULyKA",
        "colab": {
          "base_uri": "https://localhost:8080/"
        },
        "outputId": "979127f8-3de7-4f29-8356-c6052ec97ab3"
      },
      "source": [
        "#Phase 4: Preprocessing data\n",
        "from sklearn.preprocessing import LabelEncoder\n",
        "def preprocess_data(data):\n",
        "    var_mod = ['Gender','Married','Education','Self_Employed','Property_Area']\n",
        "    if \"Loan_Status\" in data:\n",
        "        var_mod.append(\"Loan_Status\")\n",
        "    le = LabelEncoder()\n",
        "    for feature in var_mod: #-label encoder converts string into int ... for example gender= m and gender = f gets converted into gender=0 and gender=1\n",
        "        data[feature] = le.fit_transform(data[feature])\n",
        "    #we have to convert Dependents into the same format , however it contains strings such as 3+ so we can't use the label encoder\n",
        "    counter=0\n",
        "    notfour=\"3+\"\n",
        "    for feature in range(len(data[\"Dependents\"])):\n",
        "        if data[\"Dependents\"][counter]==notfour:\n",
        "            data[\"Dependents\"][counter]=4\n",
        "        elif data[\"Dependents\"][counter]==\"Yes\" :\n",
        "            data[\"Dependents\"][counter]=1\n",
        "        elif data[\"Dependents\"][counter]==\"No\":\n",
        "            data[\"Dependents\"][counter]=0\n",
        "        else:\n",
        "            data[\"Dependents\"][counter]=int(data[\"Dependents\"][counter])\n",
        "        counter=counter+1\n",
        "    data[\"Dependents\"] = le.fit_transform(data[\"Dependents\"])\n",
        "    return data\n",
        "data=preprocess_data(data)\n",
        "#data.dtypes  #-all data types shoudl be numeric except for loan id\n",
        "\n"
      ],
      "execution_count": 4,
      "outputs": [
        {
          "output_type": "stream",
          "text": [
            "/usr/local/lib/python3.6/dist-packages/ipykernel_launcher.py:21: SettingWithCopyWarning: \n",
            "A value is trying to be set on a copy of a slice from a DataFrame\n",
            "\n",
            "See the caveats in the documentation: https://pandas.pydata.org/pandas-docs/stable/user_guide/indexing.html#returning-a-view-versus-a-copy\n",
            "/usr/local/lib/python3.6/dist-packages/ipykernel_launcher.py:15: SettingWithCopyWarning: \n",
            "A value is trying to be set on a copy of a slice from a DataFrame\n",
            "\n",
            "See the caveats in the documentation: https://pandas.pydata.org/pandas-docs/stable/user_guide/indexing.html#returning-a-view-versus-a-copy\n",
            "  from ipykernel import kernelapp as app\n",
            "/usr/local/lib/python3.6/dist-packages/ipykernel_launcher.py:17: SettingWithCopyWarning: \n",
            "A value is trying to be set on a copy of a slice from a DataFrame\n",
            "\n",
            "See the caveats in the documentation: https://pandas.pydata.org/pandas-docs/stable/user_guide/indexing.html#returning-a-view-versus-a-copy\n",
            "/usr/local/lib/python3.6/dist-packages/ipykernel_launcher.py:19: SettingWithCopyWarning: \n",
            "A value is trying to be set on a copy of a slice from a DataFrame\n",
            "\n",
            "See the caveats in the documentation: https://pandas.pydata.org/pandas-docs/stable/user_guide/indexing.html#returning-a-view-versus-a-copy\n"
          ],
          "name": "stderr"
        }
      ]
    },
    {
      "cell_type": "code",
      "metadata": {
        "id": "JTMYr8r_LyKK"
      },
      "source": [
        "#Phase 5 Start the ML Process : GENERIC FUNCTION FOR MAKING CLASSIFICATION MODEL AND DISPLAYING PERFORMANCE\n",
        "\n",
        "from sklearn.linear_model import LogisticRegression\n",
        "from sklearn.model_selection import KFold\n",
        "from sklearn import metrics #- Provides accuracy scores\n",
        "from sklearn.metrics import plot_confusion_matrix\n",
        "from sklearn.metrics import confusion_matrix\n",
        "import matplotlib.pyplot as plt\n",
        "\n",
        "def classification_model(model,data,predictors,outcome):\n",
        "    model.fit(data[predictors],data[outcome])\n",
        "    predictions=model.predict(data[predictors])\n",
        "    accuracy=metrics.accuracy_score(predictions,data[outcome])\n",
        "    print(\"Accuracy=\",(accuracy*100),\"%\")\n",
        "    #For k fold cross verification\n",
        "    kf = KFold(n_splits=5)#KFold returns the indices of 2 values : training set and test set\n",
        "    error=[]\n",
        "    for train, test in kf.split(data):\n",
        "        train_predictors = (data[predictors].iloc[train,:]) #iloc chooses rows , in this case index train and all the columns\n",
        "        train_target = data[outcome].iloc[train] # The target we choose to train the algorithm\n",
        "        model.fit(train_predictors, train_target) \n",
        "        # predictions = model.predict(data[predictors].iloc[test,:])\n",
        "        # print(confusion_matrix(data[outcome].iloc[test], predictions, labels=[0,1]))\n",
        "        disp = plot_confusion_matrix(model, data[predictors].iloc[test,:], data[outcome].iloc[test],\n",
        "                                 display_labels=[0,1],\n",
        "                                 cmap=plt.cm.Blues)\n",
        "        error.append(model.score(data[predictors].iloc[test,:], data[outcome].iloc[test]))\n",
        "    print (\"Cross-Validation Score : %s\" % \"{0:.3%}\".format(np.mean(error)))\n",
        "\n",
        " \n",
        "\n",
        "#learn about iloc"
      ],
      "execution_count": 55,
      "outputs": []
    },
    {
      "cell_type": "code",
      "metadata": {
        "id": "iq2Sare9AG97"
      },
      "source": [
        "#Choosing features\n",
        "outcome=\"Loan_Status\"\n",
        "features= [\"Gender\",\"Married\",\"Dependents\",\"Education\",\"Self_Employed\",\"ApplicantIncome\",\"CoapplicantIncome\",\"LoanAmount\",\"Loan_Amount_Term\",\"Property_Area\"]\n",
        "#for choose in features:  #- with this we find out For feature: ['Credit_History'] , Accuracy= 80.94462540716613 % , Cross-Validation Score : 80.946% Hence we use this\n",
        " #   predictors.append(choose) # to fit our model\n",
        "  #  print(\"For feature:\",predictors)\n",
        "   # classification_model(model,data,predictors,outcome)\n"
      ],
      "execution_count": 64,
      "outputs": []
    },
    {
      "cell_type": "code",
      "metadata": {
        "colab": {
          "base_uri": "https://localhost:8080/"
        },
        "id": "0J4lYdH3G8gX",
        "outputId": "2f769670-dbc0-4670-c07c-0a788550ea32"
      },
      "source": [
        "from sklearn.datasets import make_friedman1\n",
        "from sklearn.feature_selection import RFE\n",
        "from sklearn.svm import SVR\n",
        "X, y = make_friedman1(n_samples=50, n_features=10, random_state=0)\n",
        "estimator = SVR(kernel=\"linear\")\n",
        "selector = RFE(estimator, n_features_to_select=5, step=5)\n",
        "selector = selector.fit(X, y)\n",
        "predictors = []\n",
        "for feature,selected_bool in zip(features,selector.support_):\n",
        "    if selected_bool == True:\n",
        "        predictors.append(feature)\n",
        "predictors.append(\"Credit_History\")\n",
        "predictors"
      ],
      "execution_count": 91,
      "outputs": [
        {
          "output_type": "execute_result",
          "data": {
            "text/plain": [
              "['Gender',\n",
              " 'Married',\n",
              " 'Dependents',\n",
              " 'Education',\n",
              " 'Self_Employed',\n",
              " 'Credit_History']"
            ]
          },
          "metadata": {
            "tags": []
          },
          "execution_count": 91
        }
      ]
    },
    {
      "cell_type": "code",
      "metadata": {
        "id": "UlB-gi8oLyKQ",
        "colab": {
          "base_uri": "https://localhost:8080/",
          "height": 1000
        },
        "outputId": "851fc377-ea4e-4d6d-82a4-4b919abe9b25"
      },
      "source": [
        "#Phase 6 : LOGISTIC REGRESSION\n",
        "model=LogisticRegression()\n",
        "classification_model(model,data,predictors,outcome)"
      ],
      "execution_count": 92,
      "outputs": [
        {
          "output_type": "stream",
          "text": [
            "Accuracy= 80.94462540716613 %\n",
            "Cross-Validation Score : 80.946%\n"
          ],
          "name": "stdout"
        },
        {
          "output_type": "display_data",
          "data": {
            "image/png": "[encoded data removed]",
            "text/plain": [
              "<Figure size 432x288 with 2 Axes>"
            ]
          },
          "metadata": {
            "tags": [],
            "needs_background": "light"
          }
        },
        {
          "output_type": "display_data",
          "data": {
            "image/png": "[encoded data removed]",
            "text/plain": [
              "<Figure size 432x288 with 2 Axes>"
            ]
          },
          "metadata": {
            "tags": [],
            "needs_background": "light"
          }
        },
        {
          "output_type": "display_data",
          "data": {
            "image/png": "[encoded data removed]",
            "text/plain": [
              "<Figure size 432x288 with 2 Axes>"
            ]
          },
          "metadata": {
            "tags": [],
            "needs_background": "light"
          }
        },
        {
          "output_type": "display_data",
          "data": {
            "image/png": "[encoded data removed]",
            "text/plain": [
              "<Figure size 432x288 with 2 Axes>"
            ]
          },
          "metadata": {
            "tags": [],
            "needs_background": "light"
          }
        },
        {
          "output_type": "display_data",
          "data": {
            "image/png": "[encoded data removed]",
            "text/plain": [
              "<Figure size 432x288 with 2 Axes>"
            ]
          },
          "metadata": {
            "tags": [],
            "needs_background": "light"
          }
        }
      ]
    },
    {
      "cell_type": "code",
      "metadata": {
        "id": "LzXq-IAnLyKV",
        "colab": {
          "base_uri": "https://localhost:8080/",
          "height": 1000
        },
        "outputId": "289f9a75-f596-4aae-d0ba-0fbd10e62f64"
      },
      "source": [
        "#Phase 7 : Gradient Boosting Classifier\n",
        "from sklearn.ensemble import GradientBoostingClassifier\n",
        "model = GradientBoostingClassifier()\n",
        "classification_model(model,data,predictors,outcome)"
      ],
      "execution_count": 93,
      "outputs": [
        {
          "output_type": "stream",
          "text": [
            "Accuracy= 81.27035830618892 %\n",
            "Cross-Validation Score : 79.807%\n"
          ],
          "name": "stdout"
        },
        {
          "output_type": "display_data",
          "data": {
            "image/png": "[encoded data removed]",
            "text/plain": [
              "<Figure size 432x288 with 2 Axes>"
            ]
          },
          "metadata": {
            "tags": [],
            "needs_background": "light"
          }
        },
        {
          "output_type": "display_data",
          "data": {
            "image/png": "[encoded data removed]",
            "text/plain": [
              "<Figure size 432x288 with 2 Axes>"
            ]
          },
          "metadata": {
            "tags": [],
            "needs_background": "light"
          }
        },
        {
          "output_type": "display_data",
          "data": {
            "image/png": "[encoded data removed]",
            "text/plain": [
              "<Figure size 432x288 with 2 Axes>"
            ]
          },
          "metadata": {
            "tags": [],
            "needs_background": "light"
          }
        },
        {
          "output_type": "display_data",
          "data": {
            "image/png": "[encoded data removed]",
            "text/plain": [
              "<Figure size 432x288 with 2 Axes>"
            ]
          },
          "metadata": {
            "tags": [],
            "needs_background": "light"
          }
        },
        {
          "output_type": "display_data",
          "data": {
            "image/png": "[encoded data removed]",
            "text/plain": [
              "<Figure size 432x288 with 2 Axes>"
            ]
          },
          "metadata": {
            "tags": [],
            "needs_background": "light"
          }
        }
      ]
    },
    {
      "cell_type": "code",
      "metadata": {
        "colab": {
          "base_uri": "https://localhost:8080/",
          "height": 1000
        },
        "id": "UgS2N8ZKEKrq",
        "outputId": "53b092a2-3a5c-472d-e64c-c2e8ffe47b66"
      },
      "source": [
        "#Phase 8 : Random Forest Classifier\n",
        "from sklearn.ensemble import RandomForestClassifier\n",
        "model = RandomForestClassifier()\n",
        "classification_model(model,data,predictors,outcome)"
      ],
      "execution_count": 94,
      "outputs": [
        {
          "output_type": "stream",
          "text": [
            "Accuracy= 82.24755700325733 %\n",
            "Cross-Validation Score : 78.830%\n"
          ],
          "name": "stdout"
        },
        {
          "output_type": "display_data",
          "data": {
            "image/png": "[encoded data removed]",
            "text/plain": [
              "<Figure size 432x288 with 2 Axes>"
            ]
          },
          "metadata": {
            "tags": [],
            "needs_background": "light"
          }
        },
        {
          "output_type": "display_data",
          "data": {
            "image/png": "[encoded data removed]",
            "text/plain": [
              "<Figure size 432x288 with 2 Axes>"
            ]
          },
          "metadata": {
            "tags": [],
            "needs_background": "light"
          }
        },
        {
          "output_type": "display_data",
          "data": {
            "image/png": "[encoded data removed]",
            "text/plain": [
              "<Figure size 432x288 with 2 Axes>"
            ]
          },
          "metadata": {
            "tags": [],
            "needs_background": "light"
          }
        },
        {
          "output_type": "display_data",
          "data": {
            "image/png": "[encoded data removed]",
            "text/plain": [
              "<Figure size 432x288 with 2 Axes>"
            ]
          },
          "metadata": {
            "tags": [],
            "needs_background": "light"
          }
        },
        {
          "output_type": "display_data",
          "data": {
            "image/png": "[encoded data removed]",
            "text/plain": [
              "<Figure size 432x288 with 2 Axes>"
            ]
          },
          "metadata": {
            "tags": [],
            "needs_background": "light"
          }
        }
      ]
    },
    {
      "cell_type": "code",
      "metadata": {
        "colab": {
          "base_uri": "https://localhost:8080/",
          "height": 1000
        },
        "id": "9M_CO7XpFnbU",
        "outputId": "3420b14a-8838-46b4-da5b-69e8a98de055"
      },
      "source": [
        "#Phase 9 : \n",
        "from xgboost import XGBClassifier\n",
        "\n",
        "model = XGBClassifier()\n",
        "classification_model(model,data,predictors,outcome)"
      ],
      "execution_count": 95,
      "outputs": [
        {
          "output_type": "stream",
          "text": [
            "Accuracy= 80.94462540716613 %\n",
            "Cross-Validation Score : 80.132%\n"
          ],
          "name": "stdout"
        },
        {
          "output_type": "display_data",
          "data": {
            "image/png": "[encoded data removed]",
            "text/plain": [
              "<Figure size 432x288 with 2 Axes>"
            ]
          },
          "metadata": {
            "tags": [],
            "needs_background": "light"
          }
        },
        {
          "output_type": "display_data",
          "data": {
            "image/png": "[encoded data removed]",
            "text/plain": [
              "<Figure size 432x288 with 2 Axes>"
            ]
          },
          "metadata": {
            "tags": [],
            "needs_background": "light"
          }
        },
        {
          "output_type": "display_data",
          "data": {
            "image/png": "[encoded data removed]",
            "text/plain": [
              "<Figure size 432x288 with 2 Axes>"
            ]
          },
          "metadata": {
            "tags": [],
            "needs_background": "light"
          }
        },
        {
          "output_type": "display_data",
          "data": {
            "image/png": "[encoded data removed]",
            "text/plain": [
              "<Figure size 432x288 with 2 Axes>"
            ]
          },
          "metadata": {
            "tags": [],
            "needs_background": "light"
          }
        },
        {
          "output_type": "display_data",
          "data": {
            "image/png": "[encoded data removed]",
            "text/plain": [
              "<Figure size 432x288 with 2 Axes>"
            ]
          },
          "metadata": {
            "tags": [],
            "needs_background": "light"
          }
        }
      ]
    },
    {
      "cell_type": "code",
      "metadata": {
        "id": "7VZ9jxddLyKc",
        "colab": {
          "base_uri": "https://localhost:8080/"
        },
        "outputId": "91feea80-3c68-4213-c471-b465450075e4"
      },
      "source": [
        "#Phase 10 : Use test data and determine output\n",
        "test_data=pd.read_csv(\"Test.csv\")\n",
        "test_data=preprocess_data(clean_data(test_data))\n",
        "model.fit(data[predictors],data[outcome])\n",
        "Y_rusty=model.predict(test_data[predictors])\n",
        "Y=[]\n",
        "for j in range(len(Y_rusty)) : # convert the 1s and 0s to Y and N \n",
        "    if Y_rusty[j]==1:\n",
        "        Y.append(\"Y\")\n",
        "    else:\n",
        "        Y.append(\"N\")\n"
      ],
      "execution_count": 74,
      "outputs": [
        {
          "output_type": "stream",
          "text": [
            "/usr/local/lib/python3.6/dist-packages/ipykernel_launcher.py:21: SettingWithCopyWarning: \n",
            "A value is trying to be set on a copy of a slice from a DataFrame\n",
            "\n",
            "See the caveats in the documentation: https://pandas.pydata.org/pandas-docs/stable/user_guide/indexing.html#returning-a-view-versus-a-copy\n",
            "/usr/local/lib/python3.6/dist-packages/ipykernel_launcher.py:15: SettingWithCopyWarning: \n",
            "A value is trying to be set on a copy of a slice from a DataFrame\n",
            "\n",
            "See the caveats in the documentation: https://pandas.pydata.org/pandas-docs/stable/user_guide/indexing.html#returning-a-view-versus-a-copy\n",
            "  from ipykernel import kernelapp as app\n"
          ],
          "name": "stderr"
        }
      ]
    },
    {
      "cell_type": "code",
      "metadata": {
        "id": "sW88vny5LyKm"
      },
      "source": [
        "#Phase 11: Store it into the CSV\n",
        "df=pd.read_csv(\"Sample.csv\")\n",
        "df[\"Loan_Status\"]=Y\n",
        "df[\"Loan_ID\"]=test_data[\"Loan_ID\"]\n",
        "df.to_csv(\"Results.csv\")\n"
      ],
      "execution_count": 75,
      "outputs": []
    },
    {
      "cell_type": "code",
      "metadata": {
        "id": "WI1bPRtPLyKr",
        "colab": {
          "base_uri": "https://localhost:8080/"
        },
        "outputId": "d78f57a7-1e07-47da-c483-66e82155c1b6"
      },
      "source": [
        "#Phase 12: Check your score/percentage with the answers\n",
        "answers=pd.read_csv(\"Answers.csv\")\n",
        "score=0\n",
        "for j in range(len(answers[\"Loan_Status\"])):\n",
        "    if answers[\"Loan_Status\"][j]==df[\"Loan_Status\"][j]:\n",
        "        score=score+1\n",
        "print(\"Percent Correct :\",(score/len(answers[\"Loan_Status\"]))*100,\"%\") #- w00w :)\n"
      ],
      "execution_count": 76,
      "outputs": [
        {
          "output_type": "stream",
          "text": [
            "Percent Correct : 99.72752043596729 %\n"
          ],
          "name": "stdout"
        }
      ]
    },
    {
      "cell_type": "code",
      "metadata": {
        "id": "yEwiihD6LyKw"
      },
      "source": [
        ""
      ],
      "execution_count": null,
      "outputs": []
    }
  ]
}
